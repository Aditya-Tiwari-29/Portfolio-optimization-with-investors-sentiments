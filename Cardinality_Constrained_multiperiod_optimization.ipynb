{
  "nbformat": 4,
  "nbformat_minor": 0,
  "metadata": {
    "colab": {
      "name": "Cardinality_Constrained_multiperiod_optimization.ipynb",
      "provenance": []
    },
    "kernelspec": {
      "name": "python3",
      "display_name": "Python 3"
    },
    "language_info": {
      "name": "python"
    }
  },
  "cells": [
    {
      "cell_type": "code",
      "metadata": {
        "id": "TplWR1CZ6qk7"
      },
      "source": [
        "from pandas_datareader import data as web\n",
        "import pandas as pd\n",
        "import numpy as np\n",
        "from datetime import datetime as dt\n",
        "import calendar\n",
        "import io\n",
        "import requests\n",
        "import math\n",
        "from scipy.optimize import minimize"
      ],
      "execution_count": null,
      "outputs": []
    },
    {
      "cell_type": "code",
      "metadata": {
        "colab": {
          "base_uri": "https://localhost:8080/"
        },
        "id": "CWXC8-OX62dz",
        "outputId": "096c8316-365d-4e09-9b06-dd02161cdda8"
      },
      "source": [
        "start_date = ['2017-01-01', '2018-01-01', '2019-01-01', '2020-01-01']\n",
        "end_date = ['2018-01-01', '2019-01-01', '2020-01-01', '2021-01-01'] \n",
        "\n",
        "\n",
        "Tickers = ['MSFT', 'AAPL', 'AMZN', 'TSLA', 'GOOGL', 'GOOG', 'FB', 'JPM', 'HD', 'JNJ', 'UNH', 'PG', 'BAC', 'V', 'ADBE', 'PFE', 'NFLX', 'MA', 'CRM', 'XOM', 'TMO', 'COST', 'CMCSA', 'CSCO', 'AVGO', 'ACN', 'ABT', 'PEP', 'PYPL', 'NKE']\n",
        "print(Tickers)"
      ],
      "execution_count": null,
      "outputs": [
        {
          "output_type": "stream",
          "name": "stdout",
          "text": [
            "['MSFT', 'AAPL', 'AMZN', 'TSLA', 'GOOGL', 'GOOG', 'FB', 'JPM', 'HD', 'JNJ', 'UNH', 'PG', 'BAC', 'V', 'ADBE', 'PFE', 'NFLX', 'MA', 'CRM', 'XOM', 'TMO', 'COST', 'CMCSA', 'CSCO', 'AVGO', 'ACN', 'ABT', 'PEP', 'PYPL', 'NKE']\n"
          ]
        }
      ]
    },
    {
      "cell_type": "code",
      "metadata": {
        "id": "4XT4Z80ylpO_"
      },
      "source": [
        "yBase = 'https://query1.finance.yahoo.com/v7/finance/download/'\n",
        "yHeaders = {     'User-Agent': 'Mozilla/5.0 (X11; Ubuntu; Linux x86_64; rv:89.0) Gecko/20100101 Firefox/89.0',     'Accept': 'text/csv;charset=utf-8'     }\n",
        "\n",
        "def getYahooDf(ticker, startDate, endDate=None): # dates in ISO format\n",
        "    start = dt.fromisoformat(startDate) # To datetime.datetime object\n",
        "    fromDate = calendar.timegm(start.utctimetuple()) # To Unix timestamp format used by Yahoo\n",
        "    if endDate is None:\n",
        "        end=dt.now()\n",
        "    else:\n",
        "        end = dt.fromisoformat(endDate)\n",
        "    toDate = calendar.timegm(end.utctimetuple())\n",
        "    params = { \n",
        "        'period1': str(fromDate),\n",
        "        'period2': str(toDate),\n",
        "        'interval': '1d',\n",
        "        'events': 'history',\n",
        "        'includeAdjustedClose': 'true'\n",
        "    }\n",
        "    response = requests.request(\"GET\", yBase + ticker, headers=yHeaders, params=params)\n",
        "    if response.status_code < 200 or response.status_code > 299:\n",
        "        print(\"here\")\n",
        "        return None\n",
        "    else:\n",
        "        csv = io.StringIO(response.text)\n",
        "        df = pd.read_csv(csv, index_col='Date')\n",
        "        return df\n"
      ],
      "execution_count": null,
      "outputs": []
    },
    {
      "cell_type": "code",
      "metadata": {
        "id": "CPo7b3r_oQtx"
      },
      "source": [
        "df_T = []\n",
        "for T in range(len(start_date)):\n",
        "  df = pd.DataFrame()\n",
        "  for stock in Tickers:\n",
        "    df[stock] = getYahooDf(stock,start_date[T],end_date[T])['Adj Close']\n",
        "  df_T.append(df)\n",
        "print(df_T)"
      ],
      "execution_count": null,
      "outputs": []
    },
    {
      "cell_type": "code",
      "metadata": {
        "id": "AtNcrefymxvl"
      },
      "source": [
        "log_returns_T = []\n",
        "\n",
        "for df in df_T:\n",
        "  log_returns = np.log(df/df.shift(1))\n",
        "  log_returns =  log_returns.dropna()\n",
        "  log_returns_T.append(log_returns)\n",
        "\n",
        "print(log_returns_T)"
      ],
      "execution_count": null,
      "outputs": []
    },
    {
      "cell_type": "code",
      "metadata": {
        "id": "RwqiNM1Vm4Z3"
      },
      "source": [
        "Cov_matrix_T = []\n",
        "\n",
        "for log_returns in log_returns_T:\n",
        "  Cov_matrix = log_returns.cov()\n",
        "  Cov_matrix_T.append(Cov_matrix)\n",
        "\n",
        "print(Cov_matrix_T)"
      ],
      "execution_count": null,
      "outputs": []
    },
    {
      "cell_type": "code",
      "metadata": {
        "id": "divLM1dbqb_I"
      },
      "source": [
        "mean_returns_T = []\n",
        "\n",
        "for log_returns in log_returns_T:\n",
        "  mean_returns = log_returns.mean()\n",
        "  mean_returns_T.append(mean_returns)\n",
        "\n",
        "print(mean_returns_T)"
      ],
      "execution_count": null,
      "outputs": []
    },
    {
      "cell_type": "code",
      "metadata": {
        "id": "QNQjlwPRnMv4"
      },
      "source": [
        "T = 4\n",
        "N = 20\n",
        "k = 8\n",
        "X = log_returns_T\n",
        "Q = Cov_matrix_T\n",
        "EX = mean_returns_T\n",
        "E = 0.0012"
      ],
      "execution_count": null,
      "outputs": []
    },
    {
      "cell_type": "markdown",
      "metadata": {
        "id": "rVTdG9_QY8_z"
      },
      "source": [
        "# Stochastic Gradient descent with layers"
      ]
    },
    {
      "cell_type": "code",
      "metadata": {
        "id": "5eT-4KV38YW7"
      },
      "source": [
        "def SNNr(t, E, k):\n",
        "\n",
        "  def softmax(S):  \n",
        "    S_exp = np.exp(S)\n",
        "    sums = S_exp.sum(axis = 0)\n",
        "    pi = S_exp/sums\n",
        "    return pi\n",
        "\n",
        "  def onehot(l):\n",
        "    z = pd.DataFrame(np.zeros(l.shape),columns = X[t].columns)\n",
        "    for i in range(l.shape[0]):\n",
        "        z.iloc[i,:] = (l.iloc[i,:] == l.iloc[i,:].max()).astype(float)\n",
        "    return z\n",
        "\n",
        "  def minlossindex(l):\n",
        "    index = np.where(l == np.amin(l))\n",
        "    return index[0][0]\n",
        "\n",
        "  ##main funcction\n",
        "\n",
        "  def grad_update(S,w_tilda,alpha,k):\n",
        "\n",
        "    for i in range(X[t].shape[0]):\n",
        "        \n",
        "        ##forward propagation\n",
        "        pi = softmax(S)\n",
        "        u = np.random.uniform(low = 0.0, high = 1.00, size = pi.shape)\n",
        "        g = -np.log(-np.log(u))\n",
        "        g = pd.DataFrame(g,columns = X[t].columns)\n",
        "        gumbel_pi = g + np.log(pi)\n",
        "        tz = onehot(gumbel_pi)\n",
        "        z = np.array(tz.sum(axis = 0),ndmin = 2)\n",
        "        w_prime = np.exp(w_tilda)\n",
        "        w_bar = np.multiply(w_prime, z)\n",
        "        w = w_bar/w_bar.sum()\n",
        "        #print(pi)\n",
        "        #print(u)\n",
        "        #print(g)\n",
        "        #print(gumbel_pi)\n",
        "        #print(z)\n",
        "        #print(w_prime)\n",
        "        #print(w_bar)\n",
        "        #print(w)\n",
        "        risk = np.dot(np.dot(z,Q[t]),z.T)[0][0]\n",
        "        Loss = np.square(np.dot(np.array(X[t].iloc[i,:],ndmin = 2),w.T)[0][0] - E) + risk\n",
        "        loss_list.append(Loss)\n",
        "        S_list.append(np.array(S))\n",
        "        w_tilda_list.append(w_tilda)\n",
        "\n",
        "        #print(Loss)\n",
        "\n",
        "        ##gradient calc and descent\n",
        "        a = np.dot(np.array(X[t].iloc[i,:],ndmin = 2),w.T)[0][0] - E\n",
        "        b = (1/np.square(w_bar.sum()))\n",
        "        c = np.multiply(z,w_prime)\n",
        "        d = np.multiply(w_prime,S - pi)\n",
        "        \n",
        "        ##\n",
        "        first = np.dot(w,Q[t].T+Q[t])\n",
        "        second = np.dot(w_prime,(S-pi).T)\n",
        "        third = np.dot(second.T,first)\n",
        "        risk_grad = third*b\n",
        "        \n",
        "        e = np.multiply(first,w_prime)\n",
        "        \n",
        "        dw_tilda = a*b*c + b*e\n",
        "        dS  = a*b*d + risk_grad\n",
        "\n",
        "        ##update parameter\n",
        "        w_tilda = w_tilda - (alpha)*(dw_tilda)\n",
        "        S = S - (alpha)*(dS)\n",
        "\n",
        "  alphas = [0.1,0.3,1,3,10]\n",
        "  S = np.random.randn(k,X[t].shape[1])                         \n",
        "  S = pd.DataFrame(S,columns= X[t].columns)\n",
        "  w_tilda = np.random.randn(1,X[t].shape[1])\n",
        "\n",
        "  alpha_losses_list = []        #holds min losses for each alpha\n",
        "  alpha_S_list = []      #holds min S corresponding to index of min losses\n",
        "  alpha_w_tilda_list = []       #holds min w_tilda corresponding to index of min losses\n",
        "\n",
        "  for i in alphas:\n",
        "    loss_list = []      #holds all losses for each alpha(per iteration)\n",
        "    S_list = []         #holds all S for each alpha(per iteration)\n",
        "    w_tilda_list = []    #holds all w_tilda for each alpha(per iteration)\n",
        "    \n",
        "    #run model\n",
        "    grad_update(S,w_tilda,i,k)     \n",
        "    \n",
        "    #some updation of lists for optimization\n",
        "    loss_list = np.array(loss_list,ndmin = 2).T\n",
        "    w_tilda_list = np.array(w_tilda_list)\n",
        "    S_list = np.array(S_list)\n",
        "    ez = minlossindex(loss_list)\n",
        "    loss_min = loss_list[ez]\n",
        "    S_min = S_list[ez]\n",
        "    w_tilda_min = w_tilda_list[ez]\n",
        "    #print(i)\n",
        "    alpha_losses_list.append(loss_min[0])\n",
        "    alpha_S_list.append(S_min)\n",
        "    alpha_w_tilda_list.append(w_tilda_min)\n",
        "\n",
        "  ##changing types\n",
        "  alpha_losses_list = np.array(alpha_losses_list,ndmin= 2)\n",
        "  alpha_S_list = np.array(alpha_S_list)\n",
        "  alpha_w_tilda_list = np.array(alpha_w_tilda_list)\n",
        "\n",
        "  gg = minlossindex(alpha_losses_list)      #index minimum of all the losses in land(of all alphas)\n",
        "  alpha_losses_list_min = alpha_losses_list[0][gg]           #S corresponding to min loss\n",
        "  alpha_S_list_min = alpha_S_list[gg]          #w_tilda corresponding to min loss\n",
        "  alpha_w_tilda_list_min = alpha_w_tilda_list[gg] \n",
        "\n",
        "  ## calculate w from feed forwarding\n",
        "  pi = softmax(alpha_S_list_min)\n",
        "  pi = pd.DataFrame(np.array(pi),columns = X[t].columns)\n",
        "  tz = onehot(pi)\n",
        "  z = np.array(tz.sum(axis = 0),ndmin = 2)\n",
        "  w_prime = np.exp(alpha_w_tilda_list_min)\n",
        "  w_bar = np.multiply(w_prime, z)\n",
        "  w = w_bar/w_bar.sum()\n",
        "  #print(w)\n",
        "\n",
        "  return z"
      ],
      "execution_count": null,
      "outputs": []
    },
    {
      "cell_type": "code",
      "metadata": {
        "id": "HjMU43QgE7nT"
      },
      "source": [
        "Z = SNNr(0,E,k)\n",
        "Z"
      ],
      "execution_count": null,
      "outputs": []
    },
    {
      "cell_type": "code",
      "metadata": {
        "id": "9Y0m8Gzjrj5-"
      },
      "source": [
        "# Single-Period MV Model\n",
        "\n",
        "def optimal_portfolio(N, Q, EX, Er,T):\n",
        "\n",
        "  def risk(w, Q_t):\n",
        "    return np.dot(w.T,np.dot(Q_t,w))\n",
        "\n",
        "  def checkExpectedReturn(w, Er_min, Ex_t):\n",
        "    res = np.dot(w.T,Ex_t) - Er_min\n",
        "    return res\n",
        "\n",
        "  def checkSum(w):\n",
        "    sum = np.sum(w)\n",
        "    return sum - 1\n",
        "\n",
        "  w0 = np.array([1]*N)\n",
        "  w0 = w0/w0.sum()\n",
        "\n",
        "  weights = [w0 for i1 in range(T)]\n",
        "\n",
        "  Ex_return = [Er for j1 in range(T)]\n",
        "\n",
        "  risk_t = [0 for k1 in range(T)]\n",
        "\n",
        "  for t in range(T):\n",
        "\n",
        "    Z = SNNr(t, Ex_return[t], k)\n",
        "\n",
        "    constraints = [{'type': 'ineq', 'fun': checkExpectedReturn, 'args': (Ex_return[t], EX[t],)},\n",
        "               {'type': 'eq', 'fun': checkSum}]\n",
        "\n",
        "    bounds = [(0,1) for i in range(N)]\n",
        "    for i in range(N):\n",
        "      if Z[0][i]!=0:\n",
        "        bounds[i] = (0,1)\n",
        "\n",
        "      if Z[0][i]==0:\n",
        "        bounds[i] = (0,0)\n",
        "\n",
        "    opt = minimize(risk, w0, method='SLSQP', args=(Q[t],), bounds=bounds, constraints=constraints)  # Finding optimal weights for each period\n",
        "\n",
        "    weights[t] = opt.x\n",
        "\n",
        "    risk_t[t] = risk(opt.x, Q[t])\n",
        "\n",
        "\n",
        "  return weights, Ex_return, risk_t\n",
        "\n",
        "\n",
        "[opt_weights1, Er_t1, r_t1] = optimal_portfolio(N, Q, EX, E, T)\n",
        "print(opt_weights1)\n",
        "print(Er_t1)\n",
        "print(r_t1)"
      ],
      "execution_count": null,
      "outputs": []
    },
    {
      "cell_type": "code",
      "metadata": {
        "id": "gB1NH9iBTrG6"
      },
      "source": [
        "w1 = opt_weights1\n",
        "risk_t1 = []\n",
        "Expected_t1 = []\n",
        "for t in range (T):\n",
        "  risk = np.dot(w1[t].T, np.dot(Q[t],w1[t]))\n",
        "  risk_t1.append(risk)\n",
        "  Et = np.dot(w1[t].T, EX[t])\n",
        "  Expected_t1.append(Et)\n",
        "\n",
        "print(risk_t1)\n",
        "print(Expected_t1)"
      ],
      "execution_count": null,
      "outputs": []
    },
    {
      "cell_type": "code",
      "metadata": {
        "id": "PlrJ4Bvryn35"
      },
      "source": [
        "# Multi-Period MV Model using prospect function\n",
        "\n",
        "def optimal_portfolio_multi(N, Q, EX, Er, T):\n",
        "\n",
        "  w0 = np.array([1]*N)\n",
        "  w0 = w0/w0.sum()\n",
        "\n",
        "  weights = [w0 for i2 in range(T)]\n",
        "\n",
        "  Ex_return = [Er for j2 in range(T)]\n",
        "\n",
        "  risk_t = [0 for k2 in range(T)]\n",
        "\n",
        "  def risk(w, Q_t):\n",
        "    return np.dot(w.T,np.dot(Q_t,w))\n",
        "\n",
        "  def checkExpectedReturn(w, Er_min, Ex_t):\n",
        "    res = np.dot(w.T,Ex_t) - Er_min\n",
        "    return res\n",
        "\n",
        "  def checkSum(w):\n",
        "    sum = np.sum(w)\n",
        "    return sum - 1\n",
        "\n",
        "  Rr = 0.00022    # Expected risk level of investor\n",
        "  \n",
        "  def prospectFunc(w, Q_t):  # Calculating the asymmetric investor sentiment\n",
        "    diff = np.dot(w.T, np.dot(Q_t,w)) - Rr\n",
        "    a = 0.88\n",
        "    b = 0.88\n",
        "    Lambda = 1   # Values of Lambda and Theta depend on the investor sentiments\n",
        "    Theta = 2\n",
        "    if diff<0:\n",
        "      return Lambda*(-1*diff)**a\n",
        "\n",
        "    else:\n",
        "      return -1*Theta*(diff)**b\n",
        "\n",
        "  for t in range(T):\n",
        "\n",
        "    Z = SNNr(t, Ex_return[t], k)\n",
        "\n",
        "    constraints = [{'type': 'ineq', 'fun': checkExpectedReturn, 'args': (Ex_return[t], EX[t],)},\n",
        "               {'type': 'eq', 'fun': checkSum}]\n",
        "\n",
        "    bounds = [(0,1) for i in range(N)]\n",
        "    for i in range(N):\n",
        "      if Z[0][i]!=0:\n",
        "        bounds[i] = (0,1)\n",
        "\n",
        "      if Z[0][i]==0:\n",
        "        bounds[i] = (0,0)\n",
        "\n",
        "    opt = minimize(risk, weights[t], method='SLSQP', args=(Q[t],), bounds=bounds, constraints=constraints)  # Finding optimal weights for each period\n",
        "\n",
        "    weights[t] = opt.x\n",
        "\n",
        "    risk_t[t] = risk(opt.x, Q[t])\n",
        "\n",
        "    if t<T-1: \n",
        "      Ex_return[t+1] = Ex_return[t]*(1 + prospectFunc(weights[t], Q[t]))   # Updating the expected return level for next period using the asymmetric investor sentiment\n",
        "\n",
        "  return weights, Ex_return, risk_t\n",
        "\n",
        "\n",
        "[opt_weights, Er_t, r_t] = optimal_portfolio_multi(N, Q, EX, E, T)\n",
        "print(opt_weights)\n",
        "print(Er_t)\n",
        "print(r_t)"
      ],
      "execution_count": null,
      "outputs": []
    },
    {
      "cell_type": "code",
      "metadata": {
        "id": "fm-ya8HR3vlL"
      },
      "source": [
        "w = opt_weights\n",
        "risk_t = []\n",
        "Expected_t = []\n",
        "for t in range (T):\n",
        "  risk = np.dot(w[t].T, np.dot(Q[t],w[t]))\n",
        "  risk_t.append(risk)\n",
        "  Et = np.dot(w[t].T, EX[t])\n",
        "  Expected_t.append(Et)\n",
        "\n",
        "print(risk_t)\n",
        "print(Expected_t)"
      ],
      "execution_count": null,
      "outputs": []
    }
  ]
}